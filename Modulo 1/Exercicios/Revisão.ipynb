{
 "cells": [
  {
   "cell_type": "markdown",
   "id": "a7b9d9b1",
   "metadata": {},
   "source": [
    "### Idade"
   ]
  },
  {
   "cell_type": "code",
   "execution_count": null,
   "id": "23c19ceb",
   "metadata": {},
   "outputs": [
    {
     "name": "stdout",
     "output_type": "stream",
     "text": [
      "menor de idade\n"
     ]
    }
   ],
   "source": [
    "idade = int(input(\"Digite a sua idade\"))\n",
    "\n",
    "if idade < 18:\n",
    "    print(\"menor de idade\")\n",
    "\n",
    "elif idade == 18:\n",
    "    print(\"maior de idade\")\n",
    "\n",
    "elif idade >= 19 or idade < 60:\n",
    "    print(\"Adulto\")\n",
    "\n",
    "elif idade >= 60: \n",
    "    print(\"Velho\")"
   ]
  },
  {
   "cell_type": "markdown",
   "id": "3e732056",
   "metadata": {},
   "source": [
    "### Calcula Média"
   ]
  },
  {
   "cell_type": "code",
   "execution_count": null,
   "id": "d048c2af",
   "metadata": {},
   "outputs": [
    {
     "name": "stdout",
     "output_type": "stream",
     "text": [
      "A sua nota é 4.0 vc está de recuperação\n"
     ]
    }
   ],
   "source": [
    "nota_1 = float(input(\"Digite a sua primeira nota\"))\n",
    "nota_2 = float(input(\"Digite a sua segunda nota\"))\n",
    "nota_3 = float(input(\"Digite a sua terceira nota\"))\n",
    "\n",
    "media = (nota_1 + nota_2 + nota_3)/3\n",
    "\n",
    "if media > 5:\n",
    "    print(f\"A sua nota é {media} vc foi aprovado\")\n",
    "\n",
    "elif media >= 4 and media < 6:\n",
    "    print(f\"A sua nota é {media} vc está de recuperação\")\n",
    "\n",
    "elif media < 4:\n",
    "    print(f\"A sua nota é {media} vc foi reprovado\")\n",
    "\n",
    "#6 apv 5 rec 4 reprovado"
   ]
  },
  {
   "cell_type": "markdown",
   "id": "4dde9ab8",
   "metadata": {},
   "source": [
    "### Calculadora "
   ]
  },
  {
   "cell_type": "code",
   "execution_count": 21,
   "id": "e73442a1",
   "metadata": {},
   "outputs": [
    {
     "name": "stdout",
     "output_type": "stream",
     "text": [
      "A conta 5.0 / 5.0 = 1.0\n"
     ]
    }
   ],
   "source": [
    "numero_1 = float(input(\"Me fale um numero\"))\n",
    "numero_2 = float(input(\"Me fale um numero\"))\n",
    "operacao = input(\"informe uma operacao\")\n",
    "\n",
    "if operacao == \"somar\" or operacao == \"+\":\n",
    "    soma = numero_1 + numero_2\n",
    "    print(f\"A conta {numero_1} + {numero_2} = {soma}\")\n",
    "\n",
    "elif operacao == \"subitrair\" or operacao == \"-\":\n",
    "    soma = numero_1 - numero_2\n",
    "    print(f\"A conta {numero_1} - {numero_2} = {soma}\")\n",
    "\n",
    "elif operacao == \"multiplicar\" or operacao == \"*\":\n",
    "    soma = numero_1 * numero_2\n",
    "    print(f\"A conta {numero_1} * {numero_2} = {soma}\")\n",
    "\n",
    "elif operacao == \"divisao\" or operacao == \"/\":\n",
    "    soma = numero_1 / numero_2\n",
    "    print(f\"A conta {numero_1} / {numero_2} = {soma}\")\n",
    "\n",
    "else:\n",
    "    print(\"Digite uma operação existente!!\")\n",
    "\n"
   ]
  },
  {
   "cell_type": "code",
   "execution_count": null,
   "id": "5ea3713f",
   "metadata": {},
   "outputs": [],
   "source": []
  }
 ],
 "metadata": {
  "kernelspec": {
   "display_name": "Python 3",
   "language": "python",
   "name": "python3"
  },
  "language_info": {
   "codemirror_mode": {
    "name": "ipython",
    "version": 3
   },
   "file_extension": ".py",
   "mimetype": "text/x-python",
   "name": "python",
   "nbconvert_exporter": "python",
   "pygments_lexer": "ipython3",
   "version": "3.13.2"
  }
 },
 "nbformat": 4,
 "nbformat_minor": 5
}
