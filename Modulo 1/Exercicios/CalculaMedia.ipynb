{
 "cells": [
  {
   "cell_type": "code",
   "execution_count": 5,
   "id": "d78e4bb4",
   "metadata": {},
   "outputs": [
    {
     "name": "stdout",
     "output_type": "stream",
     "text": [
      "O seu nome é: Gustavo\n"
     ]
    }
   ],
   "source": [
    "nome = input(\"Qual o seu nome?\")\n",
    "print(f\"O seu nome é: {nome}\")"
   ]
  },
  {
   "cell_type": "code",
   "execution_count": 3,
   "id": "29e12b7d",
   "metadata": {},
   "outputs": [
    {
     "name": "stdout",
     "output_type": "stream",
     "text": [
      "A sua idade é idade: 17\n"
     ]
    }
   ],
   "source": [
    "idade = input(\"Qual a sua idade?\")\n",
    "print(f\"A sua idade é idade: {idade}\")"
   ]
  },
  {
   "cell_type": "code",
   "execution_count": 9,
   "id": "0fd54489",
   "metadata": {},
   "outputs": [
    {
     "name": "stdout",
     "output_type": "stream",
     "text": [
      "O seu nome é Gustavo e a sua idade 18\n"
     ]
    }
   ],
   "source": [
    "nome = input(\"Qual a seu nome:\")\n",
    "ano_atual = int(input(\"Digite o ano atual\"))\n",
    "ano_nascimento = int(input(\"Digite o seu ano de nascimento\"))\n",
    "idade = ano_atual - ano_nascimento\n",
    "print(f\"O seu nome é {nome} e a sua idade {idade}\")"
   ]
  },
  {
   "cell_type": "markdown",
   "id": "7f0eb1c3",
   "metadata": {},
   "source": [
    "### Calcula média "
   ]
  },
  {
   "cell_type": "code",
   "execution_count": 7,
   "id": "e6064423",
   "metadata": {},
   "outputs": [
    {
     "name": "stdout",
     "output_type": "stream",
     "text": [
      "A sua média é : 7.8500000000000005\n"
     ]
    }
   ],
   "source": [
    "nota1 = float(input(\"Digite a sua 1° nota!!!\"))\n",
    "nota2 = float(input(\"Digite a sua 2° nota!!!\"))\n",
    "nota3 = float(input(\"Digite a sua 3° nota!!!\"))\n",
    "nota4 = float(input(\"Digite a sua 4° nota!!!\"))\n",
    "nota5 = float(input(\"Digite a sua 5° nota!!!\"))\n",
    "nota6 = float(input(\"Digite a sua 6° nota!!!\"))\n",
    "nota7 = float(input(\"Digite a sua 7° nota!!!\"))\n",
    "nota8 = float(input(\"Digite a sua 8° nota!!!\"))\n",
    "nota9 = float(input(\"Digite a sua 9° nota!!!\"))\n",
    "nota10 = float(input(\"Digite a sua 10° nota!!!\"))\n",
    "nota11 = float(input(\"Digite a sua 11° nota!!!\"))\n",
    "nota12 = float(input(\"Digite a sua 12° nota!!!\"))\n",
    "nota13 = float(input(\"Digite a sua 13° nota!!!\"))\n",
    "nota14 = float(input(\"Digite a sua 14° nota!!!\"))\n",
    "media = ((nota1 + nota2 + nota3 + nota4 + nota5 + nota6 + nota7 + nota8 + nota9 + nota10 + nota11 + nota12 + nota13 + nota14) /14)\n",
    "print(f\"A sua média é : {media}\")"
   ]
  },
  {
   "cell_type": "markdown",
   "id": "58e1179f",
   "metadata": {},
   "source": [
    "### Quero te conhecer melhor"
   ]
  },
  {
   "cell_type": "code",
   "execution_count": 6,
   "id": "59abf23f",
   "metadata": {},
   "outputs": [
    {
     "name": "stdout",
     "output_type": "stream",
     "text": [
      "Eu adorei te conhecer! O seu nome é Gustavo, o seu hobby é ler, e a sua musica favorita é carnaval kamaitachi\n"
     ]
    }
   ],
   "source": [
    "nome = input(\"Qual é o seu nome??\")\n",
    "hobby = input(\"Qual é o seu hobby??\")\n",
    "musica_fav = input(\"Qual é a sua musica favorita??\")\n",
    "print (f\"Eu adorei te conhecer! O seu nome é {nome}, o seu hobby é {hobby}, e a sua musica favorita é {musica_fav}\")"
   ]
  },
  {
   "cell_type": "markdown",
   "id": "eec91a36",
   "metadata": {},
   "source": [
    "### IF e ELSE "
   ]
  },
  {
   "cell_type": "code",
   "execution_count": 9,
   "id": "ecf0470d",
   "metadata": {},
   "outputs": [
    {
     "name": "stdout",
     "output_type": "stream",
     "text": [
      "Vc foi reprovado\n"
     ]
    }
   ],
   "source": [
    "media = float (input(\"Qual a sua média?\"))\n",
    "\n",
    "if media >=5:\n",
    "    print(\"Vc foi aprovado!\")\n",
    "else:\n",
    "    print(\"Vc foi reprovado\")"
   ]
  },
  {
   "cell_type": "markdown",
   "id": "fa54fc2c",
   "metadata": {},
   "source": [
    "### Calcule a média de 3 notas"
   ]
  },
  {
   "cell_type": "code",
   "execution_count": 5,
   "id": "37c6b6ba",
   "metadata": {},
   "outputs": [
    {
     "name": "stdout",
     "output_type": "stream",
     "text": [
      "Vc foi aprovado\n"
     ]
    }
   ],
   "source": [
    "nota1 = float (input(\"Digite a sua primeira nota\"))\n",
    "nota2 = float (input(\"Digite a sua segunda nota\"))\n",
    "nota3 = float (input(\"Digite a sua terceira nota\"))\n",
    "\n",
    "media = ((nota1 + nota2 + nota3) /3)\n",
    "\n",
    "if media >=5:\n",
    "    print(f\"Vc foi aprovado\")\n",
    "else:\n",
    "    print(f\"vc foi reprovado\")"
   ]
  },
  {
   "cell_type": "markdown",
   "id": "8e8e0d46",
   "metadata": {},
   "source": [
    "### Contatinho"
   ]
  },
  {
   "cell_type": "code",
   "execution_count": null,
   "id": "34094bdb",
   "metadata": {},
   "outputs": [
    {
     "name": "stdout",
     "output_type": "stream",
     "text": [
      "Olá Ines!\n"
     ]
    }
   ],
   "source": [
    "nome = input(\"Me fala seu nome\")\n",
    "telefone = input(\"Me fale o seu telefone\")\n",
    "crush = (\"Ines\")\n",
    "\n",
    "if nome == crush:\n",
    "    print(\"Olá Ines!\")\n",
    "else:\n",
    "    print(\"Vc não é quem eu esperava\")\n"
   ]
  },
  {
   "cell_type": "markdown",
   "id": "79ce2923",
   "metadata": {},
   "source": [
    "### Musica favorita"
   ]
  },
  {
   "cell_type": "code",
   "execution_count": 4,
   "id": "cd492b5e",
   "metadata": {},
   "outputs": [
    {
     "name": "stdout",
     "output_type": "stream",
     "text": [
      "Não gosto dessa musica\n"
     ]
    }
   ],
   "source": [
    "musica = input(\"Qual a sua musica favorita??\")\n",
    "musica_fav = \"Carnaval\"\n",
    "\n",
    "if musica == musica_fav:\n",
    "    print(\"Que legal! nós gostamos da mesma nusica\")\n",
    "else:\n",
    "    print(\"Não gosto dessa musica\")"
   ]
  },
  {
   "cell_type": "markdown",
   "id": "db7c4de2",
   "metadata": {},
   "source": [
    "### CNH"
   ]
  },
  {
   "cell_type": "code",
   "execution_count": null,
   "id": "0ef59ed2",
   "metadata": {},
   "outputs": [
    {
     "name": "stdout",
     "output_type": "stream",
     "text": [
      "Pode dirigir!\n"
     ]
    }
   ],
   "source": [
    "idade = int(input(\"Boa tarde! Qual a sua idade?\"))\n",
    "idade_minima = 18\n",
    "\n",
    "resultado_cnh = input(\"Informe se vc foi aprovado ou reprovado no curso:\").lower()\n",
    "resultado_esperado = \"aprovado\"\n",
    "\n",
    "if idade >= idade_minima and resultado_cnh == resultado_esperado:\n",
    "    print(\"Pode dirigir!\")\n",
    "else:\n",
    "    print(\"Não pode dirigir!\")"
   ]
  },
  {
   "cell_type": "markdown",
   "id": "efdeac6b",
   "metadata": {},
   "source": [
    "### Fabrica de programadores "
   ]
  },
  {
   "cell_type": "code",
   "execution_count": 16,
   "id": "7a1b5ee6",
   "metadata": {},
   "outputs": [
    {
     "name": "stdout",
     "output_type": "stream",
     "text": [
      "Vc pode participar da fabrica de programadores!!\n"
     ]
    }
   ],
   "source": [
    "serie = int(input(\"boa tarde! Qual a sua série??\"))\n",
    "serie_minima = 3\n",
    "\n",
    "municipio = (input(\"Vc estuda em Santana de parnaiba??\")).lower()\n",
    "municipio_correto = \"sim\"\n",
    "\n",
    "if serie == serie_minima and municipio == municipio_correto:\n",
    "    print(\"Vc pode participar da fabrica de programadores!!\")\n",
    "else:\n",
    "    print(\"Vc não pode fazer programas!!!\")"
   ]
  },
  {
   "cell_type": "markdown",
   "id": "3ffed386",
   "metadata": {},
   "source": [
    "### Melhor musica do mundo "
   ]
  },
  {
   "cell_type": "code",
   "execution_count": null,
   "id": "51a52d67",
   "metadata": {},
   "outputs": [
    {
     "name": "stdout",
     "output_type": "stream",
     "text": [
      "Que gosto musical péssimo\n"
     ]
    }
   ],
   "source": [
    "musica = (input(\"Qual é a melhor musica??\")).lower\n",
    "musica_fav = \"carnaval\"\n",
    "\n",
    "cantor = (input(\"Quem cantou essa pedrada??\")).lower()\n",
    "cantor_fav = \"kamaitachi\"\n",
    "\n",
    "if musica == musica_fav and cantor == cantor_fav:\n",
    "    print(\"Vc tem um ótimo gosto\")\n",
    "else:\n",
    "    print(\"Que musica péssima\")"
   ]
  },
  {
   "cell_type": "markdown",
   "id": "48cc44b0",
   "metadata": {},
   "source": [
    "### Emprego dos sonhos"
   ]
  },
  {
   "cell_type": "code",
   "execution_count": null,
   "id": "714e9970",
   "metadata": {},
   "outputs": [
    {
     "data": {
      "text/plain": [
       "2180"
      ]
     },
     "execution_count": 8,
     "metadata": {},
     "output_type": "execute_result"
    }
   ],
   "source": [
    "salario = 5000\n",
    "\n",
    "conta_agua = 120\n",
    "conta_luz = 400\n",
    "conta_internet = 80\n",
    "mercado = 1500\n",
    "gas = 120\n",
    "iptu = 100\n",
    "roupa = 500\n",
    "\n",
    "salario - conta_agua - conta_luz - conta_internet - mercado - gas - iptu - roupa "
   ]
  },
  {
   "cell_type": "markdown",
   "id": "b84d1a7a",
   "metadata": {},
   "source": [
    "### Contatinho 2.0"
   ]
  },
  {
   "cell_type": "code",
   "execution_count": 2,
   "id": "47c71ce1",
   "metadata": {},
   "outputs": [
    {
     "name": "stdout",
     "output_type": "stream",
     "text": [
      "Ops.. olá sumi\n"
     ]
    }
   ],
   "source": [
    "nome = input(\"Me fala seu nome\")\n",
    "telefone = input(\"Me fale o seu telefone\")\n",
    "crush = (\"Ines\")\n",
    "crush_2 = (\"Sumi\")\n",
    "\n",
    "if nome == crush:\n",
    "    print(\"Olá Ines!\")\n",
    "elif nome == crush_2:\n",
    "    print(\"Ops.. olá sumi\")\n",
    "else:\n",
    "    print(\"Vc não é quem eu esperava\")"
   ]
  },
  {
   "cell_type": "markdown",
   "id": "382c4516",
   "metadata": {},
   "source": [
    "### Medidor de temperatura"
   ]
  },
  {
   "cell_type": "code",
   "execution_count": null,
   "id": "ae1542c8",
   "metadata": {},
   "outputs": [
    {
     "name": "stdout",
     "output_type": "stream",
     "text": [
      "Está frio\n"
     ]
    }
   ],
   "source": [
    "temperatura = int(input(\"me fale a temperatura\"))\n",
    "\n",
    "calor = 32\n",
    "neutro = 21\n",
    "frio = 20\n",
    "\n",
    "if temperatura >= calor:\n",
    "    print(\"Calor de morrer\")\n",
    "\n",
    "elif temperatura == neutro and temperatura < calor:\n",
    "    print(\"Está agradavel\")\n",
    "\n",
    "elif temperatura <= frio:\n",
    "    print(\"Está frio\")\n",
    "else:\n",
    "    print(\"Preciso de uma temperatura para te informar\")\n"
   ]
  },
  {
   "cell_type": "markdown",
   "id": "e1a69c27",
   "metadata": {},
   "source": [
    "### Contole de estoque"
   ]
  },
  {
   "cell_type": "code",
   "execution_count": 17,
   "id": "ab6f47a2",
   "metadata": {},
   "outputs": [
    {
     "name": "stdout",
     "output_type": "stream",
     "text": [
      "Estoque do tv dentro do normal\n"
     ]
    }
   ],
   "source": [
    "produto_nome = (input(\"Qual o nome do produto\"))\n",
    "produto = int(input(\"Qual a quantidade do produto\"))\n",
    "\n",
    "if produto == 0:\n",
    "    print(f\"{produto_nome} está em falta! Compre imediatamente\")\n",
    "\n",
    "elif produto <= 10:\n",
    "    print(f\"{produto_nome} está quase acabando! Favor repor estoque\")\n",
    "\n",
    "elif produto >= 30:\n",
    "    print(f\"{produto_nome} Está em excesso\")\n",
    "\n",
    "else:\n",
    "    print(f\"Estoque do {produto_nome} dentro do normal\")\n"
   ]
  },
  {
   "cell_type": "markdown",
   "id": "c8645a77",
   "metadata": {},
   "source": [
    "### Calculadora básica"
   ]
  },
  {
   "cell_type": "code",
   "execution_count": null,
   "id": "b0e6ff99",
   "metadata": {},
   "outputs": [
    {
     "name": "stdout",
     "output_type": "stream",
     "text": [
      "Digite uma operação existente!!\n"
     ]
    }
   ],
   "source": [
    "numero_1 = float(input(\"Calculadora! Informe um número\"))\n",
    "numero_2 = float(input(\"Infome um segundo número\"))\n",
    "operaçao = input(\"informe uma operação\")\n",
    " \n",
    "\n",
    "if operaçao == \"somar\" or operaçao == \"+\":\n",
    "    soma = numero_1 + numero_2\n",
    "    print(f\"A conta {numero_1} + {numero_2} = {soma}\")\n",
    "\n",
    "elif operaçao == \"subitrair\" or operaçao == \"-\":\n",
    "    subitrair = numero_1 - numero_2\n",
    "    print(f\"A conta {numero_1} + {numero_2} = {subitrair}\")\n",
    "\n",
    "elif operaçao == \"divisão\" or operaçao == \"/\":\n",
    "    divisao = numero_1 + numero_2\n",
    "    print(f\"A conta {numero_1} + {numero_2} = {divisao}\")\n",
    "\n",
    "elif operaçao == \"multiplicar\" or operaçao == \"*\":\n",
    "    multiplicar = numero_1 + numero_2\n",
    "    print(f\"A conta {numero_1} + {numero_2} = {multiplicar}\")\n",
    "    \n",
    "else:\n",
    "    print(\"Digite uma operação existente!!\")\n",
    "     "
   ]
  },
  {
   "cell_type": "code",
   "execution_count": 13,
   "id": "5e3ec738",
   "metadata": {},
   "outputs": [
    {
     "name": "stdout",
     "output_type": "stream",
     "text": [
      "-------- Aprova ALLANA ------------\n",
      "Ufaaaa alguém te passou né fiaaaaa\n"
     ]
    }
   ],
   "source": [
    "print(\"-------- Aprova ALLANA ------------\")\n",
    "quem_aprova = input(\"Quem aprova a Allana\")\n",
    "if quem_aprova == \"Deus\":\n",
    "    print(\"Reprovouu tá lascada\")\n",
    "\n",
    "elif quem_aprova == \"Mateus\":\n",
    "    print(f\"Você foi julgado pelo mestro da computação o melhor, a besta enjaulada,  Mateus \")\n",
    "    print(\"Reprovada trouxa, respeite o gato do professor\")\n",
    "\n",
    "else:\n",
    "    print(\"Ufaaaa alguém te passou né fiaaaaa\")\n"
   ]
  }
 ],
 "metadata": {
  "kernelspec": {
   "display_name": "Python 3",
   "language": "python",
   "name": "python3"
  },
  "language_info": {
   "codemirror_mode": {
    "name": "ipython",
    "version": 3
   },
   "file_extension": ".py",
   "mimetype": "text/x-python",
   "name": "python",
   "nbconvert_exporter": "python",
   "pygments_lexer": "ipython3",
   "version": "3.13.2"
  }
 },
 "nbformat": 4,
 "nbformat_minor": 5
}
