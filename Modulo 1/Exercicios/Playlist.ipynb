{
 "cells": [
  {
   "cell_type": "code",
   "execution_count": 1,
   "id": "c8952d1c",
   "metadata": {},
   "outputs": [
    {
     "name": "stdout",
     "output_type": "stream",
     "text": [
      "A sua playlist é ['aaa', 'bbb', 'ccc']\n"
     ]
    }
   ],
   "source": [
    "playlist = []\n",
    "\n",
    "for musica in range(3):\n",
    "    musica = input(\"Digite uma música\")\n",
    "    playlist.append(musica)\n",
    "\n",
    "print(f\"A sua playlist é {playlist}\")"
   ]
  }
 ],
 "metadata": {
  "kernelspec": {
   "display_name": "Python 3",
   "language": "python",
   "name": "python3"
  },
  "language_info": {
   "codemirror_mode": {
    "name": "ipython",
    "version": 3
   },
   "file_extension": ".py",
   "mimetype": "text/x-python",
   "name": "python",
   "nbconvert_exporter": "python",
   "pygments_lexer": "ipython3",
   "version": "3.13.2"
  }
 },
 "nbformat": 4,
 "nbformat_minor": 5
}
