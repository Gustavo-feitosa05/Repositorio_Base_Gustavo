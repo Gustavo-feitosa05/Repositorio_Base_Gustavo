{
 "cells": [
  {
   "cell_type": "code",
   "execution_count": 11,
   "id": "af09ca4a",
   "metadata": {},
   "outputs": [
    {
     "name": "stdout",
     "output_type": "stream",
     "text": [
      "8.4\n"
     ]
    }
   ],
   "source": [
    "nota1 = float(9.2)\n",
    "nota2 = float(8.5)\n",
    "nota3 = float(7.5)\n",
    "media=((nota1 + nota2 + nota3) /3)\n",
    "print (media)"
   ]
  },
  {
   "cell_type": "code",
   "execution_count": null,
   "id": "1f19f917",
   "metadata": {},
   "outputs": [
    {
     "name": "stdout",
     "output_type": "stream",
     "text": [
      "A sua média é : 8.1\n"
     ]
    }
   ],
   "source": [
    "nota1 = float(input(\"Digite a sua nota!!!\"))\n",
    "nota2 = float(input(\"Digite a sua segunda nota!!!\"))\n",
    "nota3 = float(input(\"Digite a sua terceira nota!!!\"))\n",
    "media = ((nota1 + nota2 + nota3) /3)\n",
    "print(f\"A sua média é : {media}\")"
   ]
  },
  {
   "cell_type": "code",
   "execution_count": 6,
   "id": "3520adc7",
   "metadata": {},
   "outputs": [
    {
     "name": "stdout",
     "output_type": "stream",
     "text": [
      "12.0\n"
     ]
    }
   ],
   "source": [
    "numero = float(input(\"Infome um número!!!\"))\n",
    "print(numero)"
   ]
  },
  {
   "cell_type": "code",
   "execution_count": 7,
   "id": "5d917d47",
   "metadata": {},
   "outputs": [
    {
     "name": "stdout",
     "output_type": "stream",
     "text": [
      "Jogo da adivinhação, boa sorte!!!\n",
      "-----------------------\n",
      "Acertei! o seu número é 632263.0\n"
     ]
    }
   ],
   "source": [
    "print(\"Jogo da adivinhação, boa sorte!!!\")\n",
    "print(\"-----------------------\")\n",
    "numero = float(input(\"Informe um número qualquer!!!\"))\n",
    "print (f\"Acertei! o seu número é {numero}\")"
   ]
  }
 ],
 "metadata": {
  "kernelspec": {
   "display_name": "Python 3",
   "language": "python",
   "name": "python3"
  },
  "language_info": {
   "codemirror_mode": {
    "name": "ipython",
    "version": 3
   },
   "file_extension": ".py",
   "mimetype": "text/x-python",
   "name": "python",
   "nbconvert_exporter": "python",
   "pygments_lexer": "ipython3",
   "version": "3.13.2"
  }
 },
 "nbformat": 4,
 "nbformat_minor": 5
}
